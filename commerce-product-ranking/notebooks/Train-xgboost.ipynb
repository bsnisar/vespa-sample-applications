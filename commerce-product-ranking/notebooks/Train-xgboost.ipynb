{
 "cells": [
  {
   "cell_type": "markdown",
   "id": "28cb53b1",
   "metadata": {},
   "source": [
    "# Learning to Rank using XGBoost \n",
    "\n",
    "This notebook demonstrates how to train a ranking model using [XGBoost](https://xgboost.readthedocs.io/).  \n",
    "\n",
    "This notebook is part of the [commerce product ranking sample app](https://github.com/vespa-engine/sample-apps/tree/master/commerce-product-ranking). \n",
    "\n",
    "Blog post series:\n",
    "\n",
    "* [Improving Product Search with Learning to Rank - part one](https://blog.vespa.ai/improving-product-search-with-ltr/)\n",
    "* [Improving Product Search with Learning to Rank - part two](https://blog.vespa.ai/improving-product-search-with-ltr-part-two/)\n",
    "* [Improving Product Search with Learning to Rank - part three](https://blog.vespa.ai/improving-product-search-with-ltr-part-three/)\n",
    "\n",
    "This work uses the largest product relevance dataset released by Amazon:\n",
    "\n",
    ">We introduce the “Shopping Queries Data Set”, a large dataset of difficult search queries, released with the aim of fostering research in the area of semantic matching of queries and products. For each query, the dataset provides a list of up to 40 potentially relevant results, together with ESCI relevance judgements (Exact, Substitute, Complement, Irrelevant) indicating the relevance of the product to the query. Each query-product pair is accompanied by additional information. The dataset is multilingual, as it contains queries in English, Japanese, and Spanish.\n",
    "\n",
    "The dataset is found at [amazon-science/esci-data](https://github.com/amazon-science/esci-data). \n",
    "The dataset and is released under the [Apache 2.0 license](https://github.com/amazon-science/esci-data/blob/main/LICENSE).\n",
    "\n"
   ]
  },
  {
   "cell_type": "code",
   "execution_count": 1,
   "id": "d18a6151",
   "metadata": {},
   "outputs": [
    {
     "name": "stdout",
     "output_type": "stream",
     "text": [
      "Requirement already satisfied: pandas in /usr/local/lib/python3.10/site-packages (1.5.1)\n",
      "Requirement already satisfied: xgboost in /usr/local/lib/python3.10/site-packages (1.7.1)\n",
      "Requirement already satisfied: numpy in /usr/local/lib/python3.10/site-packages (1.23.4)\n",
      "Requirement already satisfied: python-dateutil>=2.8.1 in /usr/local/lib/python3.10/site-packages (from pandas) (2.8.2)\n",
      "Requirement already satisfied: pytz>=2020.1 in /usr/local/lib/python3.10/site-packages (from pandas) (2022.5)\n",
      "Requirement already satisfied: scipy in /usr/local/lib/python3.10/site-packages (from xgboost) (1.9.3)\n",
      "Requirement already satisfied: six>=1.5 in /usr/local/lib/python3.10/site-packages (from python-dateutil>=2.8.1->pandas) (1.16.0)\n",
      "\n",
      "\u001b[1m[\u001b[0m\u001b[34;49mnotice\u001b[0m\u001b[1;39;49m]\u001b[0m\u001b[39;49m A new release of pip available: \u001b[0m\u001b[31;49m22.3\u001b[0m\u001b[39;49m -> \u001b[0m\u001b[32;49m22.3.1\u001b[0m\n",
      "\u001b[1m[\u001b[0m\u001b[34;49mnotice\u001b[0m\u001b[1;39;49m]\u001b[0m\u001b[39;49m To update, run: \u001b[0m\u001b[32;49mpython3.10 -m pip install --upgrade pip\u001b[0m\n"
     ]
    }
   ],
   "source": [
    "!pip3 install pandas xgboost numpy"
   ]
  },
  {
   "cell_type": "code",
   "execution_count": 2,
   "id": "12d09526",
   "metadata": {},
   "outputs": [],
   "source": [
    "import pandas\n",
    "import xgboost"
   ]
  },
  {
   "cell_type": "markdown",
   "id": "e9dd7c77",
   "metadata": {},
   "source": [
    "Read the published training data. This dataframe contains scraped features from a running Vespa instance, using a  scrape rank-profile, returning calculated features using [match-features](https://docs.vespa.ai/en/reference/schema-reference.html#match-features)."
   ]
  },
  {
   "cell_type": "code",
   "execution_count": 3,
   "id": "d6ff3429",
   "metadata": {},
   "outputs": [],
   "source": [
    "train = pandas.read_parquet('https://data.vespa.oath.cloud/sample-apps-data/product_ranking_train.parquet')"
   ]
  },
  {
   "cell_type": "markdown",
   "id": "190747b5",
   "metadata": {},
   "source": [
    "## Dataset and split processing\n",
    "Convert the dataset's textual labels Exact, Substitute, Complement, Irrelevant to numeric labels. XGBoost does not\n",
    "support custom label gains, so we convert directly to the label gain. "
   ]
  },
  {
   "cell_type": "code",
   "execution_count": 4,
   "id": "8a08fc7b",
   "metadata": {},
   "outputs": [],
   "source": [
    "esci_2_numeric = {\n",
    "        'E' : 1,\n",
    "        'S' : 0.1,\n",
    "        'C' : 0.01,\n",
    "        'I' : 0,\n",
    "}\n",
    "train['label'] = train['esci_label'].apply(lambda esci_label: esci_2_numeric[esci_label])"
   ]
  },
  {
   "cell_type": "markdown",
   "id": "a664c4a3",
   "metadata": {},
   "source": [
    "We create a dev split from the original train split (80:20 split)"
   ]
  },
  {
   "cell_type": "code",
   "execution_count": 5,
   "id": "1294b310",
   "metadata": {},
   "outputs": [],
   "source": [
    "train_queries = pandas.read_parquet('https://data.vespa.oath.cloud/sample-apps-data/train_query_ids.parquet')['query_id'].unique()\n",
    "dev_queries = pandas.read_parquet('https://data.vespa.oath.cloud/sample-apps-data/dev_query_ids.parquet')['query_id'].unique()"
   ]
  },
  {
   "cell_type": "markdown",
   "id": "84872077",
   "metadata": {},
   "source": [
    "We filter so that we end up with two splits or the original train dataset. This way we can evaluate performance on the dev set and we avoid tuning hyperparameters based on observed test set performance. "
   ]
  },
  {
   "cell_type": "code",
   "execution_count": 6,
   "id": "de18b91c",
   "metadata": {},
   "outputs": [],
   "source": [
    "df_train = train[train['query_id'].isin(train_queries)]\n",
    "df_dev = train[train['query_id'].isin(dev_queries)]"
   ]
  },
  {
   "cell_type": "markdown",
   "id": "f6548de0",
   "metadata": {},
   "source": [
    "We need to group by query_id so that XGBoost knows which products belongs to which query."
   ]
  },
  {
   "cell_type": "code",
   "execution_count": 7,
   "id": "acf75548",
   "metadata": {},
   "outputs": [],
   "source": [
    "train_query_groups=df_train['query_id'].value_counts().sort_index().values\n",
    "dev_query_groups=df_dev['query_id'].value_counts().sort_index().values"
   ]
  },
  {
   "cell_type": "markdown",
   "id": "73177d51",
   "metadata": {},
   "source": [
    "The label we want to predict  "
   ]
  },
  {
   "cell_type": "code",
   "execution_count": 8,
   "id": "5fdadc19",
   "metadata": {},
   "outputs": [],
   "source": [
    "train_target = df_train['label'].values\n",
    "dev_target = df_dev['label'].values"
   ]
  },
  {
   "cell_type": "markdown",
   "id": "398c14a9",
   "metadata": {},
   "source": [
    "Drop columns that we don't need during training, after this we are left with just the pure features"
   ]
  },
  {
   "cell_type": "code",
   "execution_count": 9,
   "id": "42e3d3b9",
   "metadata": {},
   "outputs": [],
   "source": [
    "drop_fields = ['example_id', 'query', 'query_id', 'product_id', 'product_locale', 'esci_label', 'small_version', 'large_version', 'split', 'label']\n"
   ]
  },
  {
   "cell_type": "code",
   "execution_count": 10,
   "id": "ea3cba73",
   "metadata": {},
   "outputs": [],
   "source": [
    "df_dev = df_dev.drop(drop_fields, axis=1)\n",
    "df_train = df_train.drop(drop_fields, axis=1)"
   ]
  },
  {
   "cell_type": "markdown",
   "id": "9dde7561",
   "metadata": {},
   "source": [
    "In this case, we choose a subset of features to train with. Deleting this cell, trains on all available features. "
   ]
  },
  {
   "cell_type": "code",
   "execution_count": 11,
   "id": "3584d6b1",
   "metadata": {},
   "outputs": [],
   "source": [
    "df_dev = df_dev[['bi_encoder', 'bm25(title)', 'bm25(description)', 'bm25(bullets)', 'nativeRank(title)']]\n",
    "df_train = df_train[['bi_encoder', 'bm25(title)', 'bm25(description)', 'bm25(bullets)', 'nativeRank(title)']]"
   ]
  },
  {
   "cell_type": "markdown",
   "id": "582c12c6",
   "metadata": {},
   "source": [
    "## Prepare for training the model\n",
    "Create xgboost DMatrix of the train and dev splits. Please notice the set_group calls, \n",
    "so that the xgboost knows which data points belongs to which query. "
   ]
  },
  {
   "cell_type": "code",
   "execution_count": 12,
   "id": "805cfe29",
   "metadata": {},
   "outputs": [],
   "source": [
    "train_ds = xgboost.DMatrix(df_train, train_target)\n",
    "train_ds.set_group(train_query_groups)\n",
    "dev_ds = xgboost.DMatrix(df_dev, dev_target)\n",
    "dev_ds.set_group(dev_query_groups)"
   ]
  },
  {
   "cell_type": "markdown",
   "id": "82fbf5db",
   "metadata": {},
   "source": [
    "## Model Training\n",
    "\n",
    "Configure hyperparameters. We set `base_score` to 0 as the XGBoost export routine does not include the `base_score` bias. Vespa assumes that `base_score` is 0. \n",
    "\n",
    "We use `rank:ndcg` objective, see [XGBoost objectives](https://xgboost.readthedocs.io/en/stable/parameter.html#learning-task-parameters)\n",
    "\n",
    "Relevant ranking objectives:\n",
    "- `rank:ndcg` listwise loss\n",
    "- `rank:pairwise` pairwise loss\n",
    "\n",
    "The ranking objective does not change how we do inference with the model, only how the model is trained. "
   ]
  },
  {
   "cell_type": "code",
   "execution_count": 13,
   "id": "a39a794f",
   "metadata": {},
   "outputs": [],
   "source": [
    "params = {\n",
    "    'objective': 'rank:pairwise',\n",
    "    'eval_metric': ['ndcg'],\n",
    "    'verbosity': 1,\n",
    "    'booster': 'gbtree',\n",
    "    'base_score': 0,\n",
    "    'eta': 0.05,\n",
    "    'max_depth': 8\n",
    "}"
   ]
  },
  {
   "cell_type": "markdown",
   "id": "430b272f",
   "metadata": {},
   "source": [
    "Train the model, output's NDCG for both the train and our dev split. We use `early_stopping_rounds=50`, which will stop training if the `dev` dataset NDCG metric does not improve. "
   ]
  },
  {
   "cell_type": "code",
   "execution_count": 14,
   "id": "574a6fe8",
   "metadata": {},
   "outputs": [
    {
     "name": "stdout",
     "output_type": "stream",
     "text": [
      "[0]\ttrain-ndcg:0.82792\tdev-ndcg:0.80515\n",
      "[1]\ttrain-ndcg:0.83283\tdev-ndcg:0.80881\n",
      "[2]\ttrain-ndcg:0.83441\tdev-ndcg:0.81017\n",
      "[3]\ttrain-ndcg:0.83610\tdev-ndcg:0.81104\n",
      "[4]\ttrain-ndcg:0.83696\tdev-ndcg:0.81169\n",
      "[5]\ttrain-ndcg:0.83784\tdev-ndcg:0.81200\n",
      "[6]\ttrain-ndcg:0.83853\tdev-ndcg:0.81200\n",
      "[7]\ttrain-ndcg:0.83915\tdev-ndcg:0.81220\n",
      "[8]\ttrain-ndcg:0.83969\tdev-ndcg:0.81238\n",
      "[9]\ttrain-ndcg:0.83992\tdev-ndcg:0.81290\n",
      "[10]\ttrain-ndcg:0.84013\tdev-ndcg:0.81295\n",
      "[11]\ttrain-ndcg:0.84039\tdev-ndcg:0.81340\n",
      "[12]\ttrain-ndcg:0.84025\tdev-ndcg:0.81327\n",
      "[13]\ttrain-ndcg:0.84053\tdev-ndcg:0.81340\n",
      "[14]\ttrain-ndcg:0.84065\tdev-ndcg:0.81398\n",
      "[15]\ttrain-ndcg:0.84089\tdev-ndcg:0.81385\n",
      "[16]\ttrain-ndcg:0.84103\tdev-ndcg:0.81412\n",
      "[17]\ttrain-ndcg:0.84106\tdev-ndcg:0.81414\n",
      "[18]\ttrain-ndcg:0.84144\tdev-ndcg:0.81458\n",
      "[19]\ttrain-ndcg:0.84164\tdev-ndcg:0.81445\n",
      "[20]\ttrain-ndcg:0.84166\tdev-ndcg:0.81435\n",
      "[21]\ttrain-ndcg:0.84163\tdev-ndcg:0.81459\n",
      "[22]\ttrain-ndcg:0.84190\tdev-ndcg:0.81480\n",
      "[23]\ttrain-ndcg:0.84202\tdev-ndcg:0.81504\n",
      "[24]\ttrain-ndcg:0.84225\tdev-ndcg:0.81503\n",
      "[25]\ttrain-ndcg:0.84228\tdev-ndcg:0.81508\n",
      "[26]\ttrain-ndcg:0.84256\tdev-ndcg:0.81554\n",
      "[27]\ttrain-ndcg:0.84249\tdev-ndcg:0.81544\n",
      "[28]\ttrain-ndcg:0.84259\tdev-ndcg:0.81540\n",
      "[29]\ttrain-ndcg:0.84266\tdev-ndcg:0.81564\n",
      "[30]\ttrain-ndcg:0.84270\tdev-ndcg:0.81575\n",
      "[31]\ttrain-ndcg:0.84300\tdev-ndcg:0.81565\n",
      "[32]\ttrain-ndcg:0.84327\tdev-ndcg:0.81566\n",
      "[33]\ttrain-ndcg:0.84352\tdev-ndcg:0.81571\n",
      "[34]\ttrain-ndcg:0.84352\tdev-ndcg:0.81565\n",
      "[35]\ttrain-ndcg:0.84365\tdev-ndcg:0.81545\n",
      "[36]\ttrain-ndcg:0.84368\tdev-ndcg:0.81571\n",
      "[37]\ttrain-ndcg:0.84374\tdev-ndcg:0.81532\n",
      "[38]\ttrain-ndcg:0.84386\tdev-ndcg:0.81527\n",
      "[39]\ttrain-ndcg:0.84396\tdev-ndcg:0.81549\n",
      "[40]\ttrain-ndcg:0.84398\tdev-ndcg:0.81551\n",
      "[41]\ttrain-ndcg:0.84397\tdev-ndcg:0.81549\n",
      "[42]\ttrain-ndcg:0.84429\tdev-ndcg:0.81569\n",
      "[43]\ttrain-ndcg:0.84444\tdev-ndcg:0.81577\n",
      "[44]\ttrain-ndcg:0.84438\tdev-ndcg:0.81582\n",
      "[45]\ttrain-ndcg:0.84434\tdev-ndcg:0.81582\n",
      "[46]\ttrain-ndcg:0.84442\tdev-ndcg:0.81570\n",
      "[47]\ttrain-ndcg:0.84467\tdev-ndcg:0.81572\n",
      "[48]\ttrain-ndcg:0.84472\tdev-ndcg:0.81559\n",
      "[49]\ttrain-ndcg:0.84470\tdev-ndcg:0.81562\n",
      "[50]\ttrain-ndcg:0.84483\tdev-ndcg:0.81567\n",
      "[51]\ttrain-ndcg:0.84488\tdev-ndcg:0.81577\n",
      "[52]\ttrain-ndcg:0.84501\tdev-ndcg:0.81589\n",
      "[53]\ttrain-ndcg:0.84495\tdev-ndcg:0.81595\n",
      "[54]\ttrain-ndcg:0.84510\tdev-ndcg:0.81590\n",
      "[55]\ttrain-ndcg:0.84509\tdev-ndcg:0.81576\n",
      "[56]\ttrain-ndcg:0.84502\tdev-ndcg:0.81595\n",
      "[57]\ttrain-ndcg:0.84505\tdev-ndcg:0.81602\n",
      "[58]\ttrain-ndcg:0.84507\tdev-ndcg:0.81604\n",
      "[59]\ttrain-ndcg:0.84520\tdev-ndcg:0.81610\n",
      "[60]\ttrain-ndcg:0.84535\tdev-ndcg:0.81616\n",
      "[61]\ttrain-ndcg:0.84544\tdev-ndcg:0.81649\n",
      "[62]\ttrain-ndcg:0.84561\tdev-ndcg:0.81643\n",
      "[63]\ttrain-ndcg:0.84563\tdev-ndcg:0.81660\n",
      "[64]\ttrain-ndcg:0.84573\tdev-ndcg:0.81648\n",
      "[65]\ttrain-ndcg:0.84572\tdev-ndcg:0.81651\n",
      "[66]\ttrain-ndcg:0.84577\tdev-ndcg:0.81630\n",
      "[67]\ttrain-ndcg:0.84589\tdev-ndcg:0.81640\n",
      "[68]\ttrain-ndcg:0.84593\tdev-ndcg:0.81624\n",
      "[69]\ttrain-ndcg:0.84593\tdev-ndcg:0.81645\n",
      "[70]\ttrain-ndcg:0.84601\tdev-ndcg:0.81637\n",
      "[71]\ttrain-ndcg:0.84604\tdev-ndcg:0.81659\n",
      "[72]\ttrain-ndcg:0.84607\tdev-ndcg:0.81650\n",
      "[73]\ttrain-ndcg:0.84616\tdev-ndcg:0.81633\n",
      "[74]\ttrain-ndcg:0.84614\tdev-ndcg:0.81630\n",
      "[75]\ttrain-ndcg:0.84624\tdev-ndcg:0.81626\n",
      "[76]\ttrain-ndcg:0.84628\tdev-ndcg:0.81629\n",
      "[77]\ttrain-ndcg:0.84637\tdev-ndcg:0.81633\n",
      "[78]\ttrain-ndcg:0.84651\tdev-ndcg:0.81639\n",
      "[79]\ttrain-ndcg:0.84650\tdev-ndcg:0.81653\n",
      "[80]\ttrain-ndcg:0.84656\tdev-ndcg:0.81633\n",
      "[81]\ttrain-ndcg:0.84669\tdev-ndcg:0.81639\n",
      "[82]\ttrain-ndcg:0.84667\tdev-ndcg:0.81650\n",
      "[83]\ttrain-ndcg:0.84674\tdev-ndcg:0.81635\n",
      "[84]\ttrain-ndcg:0.84685\tdev-ndcg:0.81626\n",
      "[85]\ttrain-ndcg:0.84698\tdev-ndcg:0.81639\n",
      "[86]\ttrain-ndcg:0.84706\tdev-ndcg:0.81641\n",
      "[87]\ttrain-ndcg:0.84708\tdev-ndcg:0.81618\n",
      "[88]\ttrain-ndcg:0.84705\tdev-ndcg:0.81633\n",
      "[89]\ttrain-ndcg:0.84705\tdev-ndcg:0.81650\n",
      "[90]\ttrain-ndcg:0.84709\tdev-ndcg:0.81639\n",
      "[91]\ttrain-ndcg:0.84717\tdev-ndcg:0.81650\n",
      "[92]\ttrain-ndcg:0.84721\tdev-ndcg:0.81639\n",
      "[93]\ttrain-ndcg:0.84725\tdev-ndcg:0.81640\n",
      "[94]\ttrain-ndcg:0.84726\tdev-ndcg:0.81641\n",
      "[95]\ttrain-ndcg:0.84727\tdev-ndcg:0.81656\n",
      "[96]\ttrain-ndcg:0.84729\tdev-ndcg:0.81665\n",
      "[97]\ttrain-ndcg:0.84742\tdev-ndcg:0.81662\n",
      "[98]\ttrain-ndcg:0.84736\tdev-ndcg:0.81656\n",
      "[99]\ttrain-ndcg:0.84738\tdev-ndcg:0.81665\n",
      "[100]\ttrain-ndcg:0.84748\tdev-ndcg:0.81651\n",
      "[101]\ttrain-ndcg:0.84753\tdev-ndcg:0.81655\n",
      "[102]\ttrain-ndcg:0.84756\tdev-ndcg:0.81649\n",
      "[103]\ttrain-ndcg:0.84761\tdev-ndcg:0.81646\n",
      "[104]\ttrain-ndcg:0.84761\tdev-ndcg:0.81631\n",
      "[105]\ttrain-ndcg:0.84760\tdev-ndcg:0.81623\n",
      "[106]\ttrain-ndcg:0.84765\tdev-ndcg:0.81622\n",
      "[107]\ttrain-ndcg:0.84780\tdev-ndcg:0.81628\n",
      "[108]\ttrain-ndcg:0.84780\tdev-ndcg:0.81610\n",
      "[109]\ttrain-ndcg:0.84789\tdev-ndcg:0.81614\n",
      "[110]\ttrain-ndcg:0.84791\tdev-ndcg:0.81624\n",
      "[111]\ttrain-ndcg:0.84803\tdev-ndcg:0.81615\n",
      "[112]\ttrain-ndcg:0.84810\tdev-ndcg:0.81608\n",
      "[113]\ttrain-ndcg:0.84812\tdev-ndcg:0.81620\n",
      "[114]\ttrain-ndcg:0.84805\tdev-ndcg:0.81623\n",
      "[115]\ttrain-ndcg:0.84810\tdev-ndcg:0.81632\n",
      "[116]\ttrain-ndcg:0.84822\tdev-ndcg:0.81626\n",
      "[117]\ttrain-ndcg:0.84817\tdev-ndcg:0.81627\n",
      "[118]\ttrain-ndcg:0.84816\tdev-ndcg:0.81616\n",
      "[119]\ttrain-ndcg:0.84822\tdev-ndcg:0.81628\n",
      "[120]\ttrain-ndcg:0.84826\tdev-ndcg:0.81622\n",
      "[121]\ttrain-ndcg:0.84832\tdev-ndcg:0.81644\n",
      "[122]\ttrain-ndcg:0.84836\tdev-ndcg:0.81643\n",
      "[123]\ttrain-ndcg:0.84840\tdev-ndcg:0.81642\n",
      "[124]\ttrain-ndcg:0.84851\tdev-ndcg:0.81632\n",
      "[125]\ttrain-ndcg:0.84842\tdev-ndcg:0.81639\n",
      "[126]\ttrain-ndcg:0.84853\tdev-ndcg:0.81642\n",
      "[127]\ttrain-ndcg:0.84855\tdev-ndcg:0.81664\n",
      "[128]\ttrain-ndcg:0.84864\tdev-ndcg:0.81659\n",
      "[129]\ttrain-ndcg:0.84875\tdev-ndcg:0.81669\n",
      "[130]\ttrain-ndcg:0.84874\tdev-ndcg:0.81663\n",
      "[131]\ttrain-ndcg:0.84882\tdev-ndcg:0.81664\n",
      "[132]\ttrain-ndcg:0.84884\tdev-ndcg:0.81671\n",
      "[133]\ttrain-ndcg:0.84890\tdev-ndcg:0.81665\n",
      "[134]\ttrain-ndcg:0.84891\tdev-ndcg:0.81680\n",
      "[135]\ttrain-ndcg:0.84887\tdev-ndcg:0.81672\n",
      "[136]\ttrain-ndcg:0.84894\tdev-ndcg:0.81686\n",
      "[137]\ttrain-ndcg:0.84894\tdev-ndcg:0.81696\n",
      "[138]\ttrain-ndcg:0.84891\tdev-ndcg:0.81693\n",
      "[139]\ttrain-ndcg:0.84892\tdev-ndcg:0.81699\n",
      "[140]\ttrain-ndcg:0.84904\tdev-ndcg:0.81703\n",
      "[141]\ttrain-ndcg:0.84916\tdev-ndcg:0.81704\n",
      "[142]\ttrain-ndcg:0.84916\tdev-ndcg:0.81698\n",
      "[143]\ttrain-ndcg:0.84921\tdev-ndcg:0.81698\n",
      "[144]\ttrain-ndcg:0.84917\tdev-ndcg:0.81714\n",
      "[145]\ttrain-ndcg:0.84914\tdev-ndcg:0.81699\n",
      "[146]\ttrain-ndcg:0.84918\tdev-ndcg:0.81696\n",
      "[147]\ttrain-ndcg:0.84921\tdev-ndcg:0.81698\n",
      "[148]\ttrain-ndcg:0.84923\tdev-ndcg:0.81702\n",
      "[149]\ttrain-ndcg:0.84923\tdev-ndcg:0.81703\n",
      "[150]\ttrain-ndcg:0.84923\tdev-ndcg:0.81705\n",
      "[151]\ttrain-ndcg:0.84933\tdev-ndcg:0.81699\n",
      "[152]\ttrain-ndcg:0.84934\tdev-ndcg:0.81701\n",
      "[153]\ttrain-ndcg:0.84935\tdev-ndcg:0.81695\n",
      "[154]\ttrain-ndcg:0.84942\tdev-ndcg:0.81685\n",
      "[155]\ttrain-ndcg:0.84952\tdev-ndcg:0.81680\n",
      "[156]\ttrain-ndcg:0.84956\tdev-ndcg:0.81669\n",
      "[157]\ttrain-ndcg:0.84959\tdev-ndcg:0.81667\n",
      "[158]\ttrain-ndcg:0.84958\tdev-ndcg:0.81663\n",
      "[159]\ttrain-ndcg:0.84961\tdev-ndcg:0.81682\n",
      "[160]\ttrain-ndcg:0.84964\tdev-ndcg:0.81686\n",
      "[161]\ttrain-ndcg:0.84960\tdev-ndcg:0.81684\n",
      "[162]\ttrain-ndcg:0.84967\tdev-ndcg:0.81689\n",
      "[163]\ttrain-ndcg:0.84964\tdev-ndcg:0.81675\n",
      "[164]\ttrain-ndcg:0.84967\tdev-ndcg:0.81689\n",
      "[165]\ttrain-ndcg:0.84972\tdev-ndcg:0.81694\n",
      "[166]\ttrain-ndcg:0.84976\tdev-ndcg:0.81688\n",
      "[167]\ttrain-ndcg:0.84974\tdev-ndcg:0.81692\n",
      "[168]\ttrain-ndcg:0.84981\tdev-ndcg:0.81686\n",
      "[169]\ttrain-ndcg:0.84980\tdev-ndcg:0.81681\n",
      "[170]\ttrain-ndcg:0.84984\tdev-ndcg:0.81677\n",
      "[171]\ttrain-ndcg:0.84983\tdev-ndcg:0.81674\n",
      "[172]\ttrain-ndcg:0.84985\tdev-ndcg:0.81690\n",
      "[173]\ttrain-ndcg:0.84990\tdev-ndcg:0.81703\n",
      "[174]\ttrain-ndcg:0.84990\tdev-ndcg:0.81693\n",
      "[175]\ttrain-ndcg:0.84989\tdev-ndcg:0.81699\n",
      "[176]\ttrain-ndcg:0.84998\tdev-ndcg:0.81695\n",
      "[177]\ttrain-ndcg:0.85013\tdev-ndcg:0.81698\n",
      "[178]\ttrain-ndcg:0.85011\tdev-ndcg:0.81716\n",
      "[179]\ttrain-ndcg:0.85015\tdev-ndcg:0.81714\n",
      "[180]\ttrain-ndcg:0.85022\tdev-ndcg:0.81704\n",
      "[181]\ttrain-ndcg:0.85019\tdev-ndcg:0.81710\n",
      "[182]\ttrain-ndcg:0.85019\tdev-ndcg:0.81722\n",
      "[183]\ttrain-ndcg:0.85025\tdev-ndcg:0.81711\n",
      "[184]\ttrain-ndcg:0.85033\tdev-ndcg:0.81711\n",
      "[185]\ttrain-ndcg:0.85033\tdev-ndcg:0.81704\n",
      "[186]\ttrain-ndcg:0.85036\tdev-ndcg:0.81699\n",
      "[187]\ttrain-ndcg:0.85038\tdev-ndcg:0.81706\n",
      "[188]\ttrain-ndcg:0.85040\tdev-ndcg:0.81698\n",
      "[189]\ttrain-ndcg:0.85046\tdev-ndcg:0.81706\n",
      "[190]\ttrain-ndcg:0.85048\tdev-ndcg:0.81684\n",
      "[191]\ttrain-ndcg:0.85055\tdev-ndcg:0.81700\n",
      "[192]\ttrain-ndcg:0.85057\tdev-ndcg:0.81697\n",
      "[193]\ttrain-ndcg:0.85061\tdev-ndcg:0.81689\n",
      "[194]\ttrain-ndcg:0.85069\tdev-ndcg:0.81688\n",
      "[195]\ttrain-ndcg:0.85074\tdev-ndcg:0.81700\n",
      "[196]\ttrain-ndcg:0.85075\tdev-ndcg:0.81697\n",
      "[197]\ttrain-ndcg:0.85076\tdev-ndcg:0.81699\n"
     ]
    },
    {
     "name": "stdout",
     "output_type": "stream",
     "text": [
      "[198]\ttrain-ndcg:0.85078\tdev-ndcg:0.81681\n",
      "[199]\ttrain-ndcg:0.85076\tdev-ndcg:0.81687\n",
      "[200]\ttrain-ndcg:0.85070\tdev-ndcg:0.81674\n",
      "[201]\ttrain-ndcg:0.85080\tdev-ndcg:0.81673\n",
      "[202]\ttrain-ndcg:0.85080\tdev-ndcg:0.81675\n",
      "[203]\ttrain-ndcg:0.85087\tdev-ndcg:0.81678\n",
      "[204]\ttrain-ndcg:0.85092\tdev-ndcg:0.81673\n",
      "[205]\ttrain-ndcg:0.85095\tdev-ndcg:0.81669\n",
      "[206]\ttrain-ndcg:0.85100\tdev-ndcg:0.81660\n",
      "[207]\ttrain-ndcg:0.85103\tdev-ndcg:0.81655\n",
      "[208]\ttrain-ndcg:0.85101\tdev-ndcg:0.81674\n",
      "[209]\ttrain-ndcg:0.85105\tdev-ndcg:0.81672\n",
      "[210]\ttrain-ndcg:0.85106\tdev-ndcg:0.81671\n",
      "[211]\ttrain-ndcg:0.85112\tdev-ndcg:0.81672\n",
      "[212]\ttrain-ndcg:0.85108\tdev-ndcg:0.81669\n",
      "[213]\ttrain-ndcg:0.85112\tdev-ndcg:0.81670\n",
      "[214]\ttrain-ndcg:0.85108\tdev-ndcg:0.81681\n",
      "[215]\ttrain-ndcg:0.85115\tdev-ndcg:0.81680\n",
      "[216]\ttrain-ndcg:0.85116\tdev-ndcg:0.81695\n",
      "[217]\ttrain-ndcg:0.85119\tdev-ndcg:0.81689\n",
      "[218]\ttrain-ndcg:0.85120\tdev-ndcg:0.81689\n",
      "[219]\ttrain-ndcg:0.85126\tdev-ndcg:0.81688\n",
      "[220]\ttrain-ndcg:0.85127\tdev-ndcg:0.81675\n",
      "[221]\ttrain-ndcg:0.85128\tdev-ndcg:0.81673\n",
      "[222]\ttrain-ndcg:0.85131\tdev-ndcg:0.81668\n",
      "[223]\ttrain-ndcg:0.85134\tdev-ndcg:0.81670\n",
      "[224]\ttrain-ndcg:0.85140\tdev-ndcg:0.81666\n",
      "[225]\ttrain-ndcg:0.85147\tdev-ndcg:0.81666\n",
      "[226]\ttrain-ndcg:0.85156\tdev-ndcg:0.81680\n",
      "[227]\ttrain-ndcg:0.85159\tdev-ndcg:0.81669\n",
      "[228]\ttrain-ndcg:0.85156\tdev-ndcg:0.81675\n",
      "[229]\ttrain-ndcg:0.85163\tdev-ndcg:0.81670\n",
      "[230]\ttrain-ndcg:0.85168\tdev-ndcg:0.81666\n",
      "[231]\ttrain-ndcg:0.85173\tdev-ndcg:0.81667\n"
     ]
    }
   ],
   "source": [
    "model = xgboost.train(\n",
    "    params, train_ds, evals=[(train_ds, 'train'), (dev_ds, 'dev')],\n",
    "    num_boost_round=1000,\n",
    "    early_stopping_rounds=50\n",
    ")"
   ]
  },
  {
   "cell_type": "markdown",
   "id": "b90a40cf",
   "metadata": {},
   "source": [
    "Plot feature importance "
   ]
  },
  {
   "cell_type": "code",
   "execution_count": 15,
   "id": "0449c0a2",
   "metadata": {},
   "outputs": [
    {
     "data": {
      "text/plain": [
       "<AxesSubplot: title={'center': 'Feature importance'}, xlabel='F score', ylabel='Features'>"
      ]
     },
     "execution_count": 15,
     "metadata": {},
     "output_type": "execute_result"
    },
    {
     "data": {
      "image/png": "[encoded data removed]",
      "text/plain": [
       "<Figure size 640x480 with 1 Axes>"
      ]
     },
     "metadata": {},
     "output_type": "display_data"
    }
   ],
   "source": [
    "from xgboost import plot_importance\n",
    "plot_importance(model, max_num_features=10, importance_type='weight')"
   ]
  },
  {
   "cell_type": "markdown",
   "id": "071a0a1d",
   "metadata": {},
   "source": [
    "## Export model for serving in Vespa \n",
    "\n",
    "See [importing-xgboost models](https://docs.vespa.ai/en/xgboost#exporting-models-from-xgboost) for how to import the exported JSON file into Vespa for serving. Since we used a DataFrame with column names as input, the column names are used as feature names. "
   ]
  },
  {
   "cell_type": "code",
   "execution_count": 16,
   "id": "00bab1a7",
   "metadata": {},
   "outputs": [],
   "source": [
    "model.dump_model('product_ranker_simple_xgboost.json', with_stats=False, dump_format='json')"
   ]
  },
  {
   "cell_type": "markdown",
   "id": "30732710",
   "metadata": {},
   "source": [
    "Place the exported `product_ranker_simple.json` file in the `models` directory in the Vespa application package and configure the rank-profile:\n",
    "\n",
    "<pre>\n",
    "rank-profile gbdt-small {\n",
    "  first-phase {\n",
    "    expression: xgboost(\"product_ranker_simple_xgboost.json\")\n",
    "  }\n",
    "}\n",
    "</pre>"
   ]
  }
 ],
 "metadata": {
  "kernelspec": {
   "display_name": "Python 3 (ipykernel)",
   "language": "python",
   "name": "python3"
  },
  "language_info": {
   "codemirror_mode": {
    "name": "ipython",
    "version": 3
   },
   "file_extension": ".py",
   "mimetype": "text/x-python",
   "name": "python",
   "nbconvert_exporter": "python",
   "pygments_lexer": "ipython3",
   "version": "3.10.8"
  }
 },
 "nbformat": 4,
 "nbformat_minor": 5
}
